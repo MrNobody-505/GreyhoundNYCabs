{
  "cells": [
    {
      "cell_type": "code",
      "execution_count": 2,
      "metadata": {},
      "outputs": [],
      "source": [
        "import pandas as pd"
      ]
    },
    {
      "cell_type": "code",
      "execution_count": 3,
      "metadata": {},
      "outputs": [
        {
          "name": "stdout",
          "output_type": "stream",
          "text": [
            "  split  sensor_id audio_filename  annotator_id  borough  block  latitude  \\\n",
            "0  test          0  00_026884.wav            -6        1    547  40.72951   \n",
            "1  test          0  00_026884.wav            -4        1    547  40.72951   \n",
            "2  test          0  00_026884.wav            -3        1    547  40.72951   \n",
            "\n",
            "   longitude  year  week  ...  7-X_other-unknown-human-voice_proximity  \\\n",
            "0  -73.99388  2019    43  ...                                       -1   \n",
            "1  -73.99388  2019    43  ...                                       -1   \n",
            "2  -73.99388  2019    43  ...                                       -1   \n",
            "\n",
            "   8-1_dog-barking-whining_proximity  1_engine_presence  \\\n",
            "0                                 -1                 -1   \n",
            "1                                 -1                  1   \n",
            "2                                 -1                  1   \n",
            "\n",
            "   2_machinery-impact_presence  3_non-machinery-impact_presence  \\\n",
            "0                            1                                0   \n",
            "1                           -1                               -1   \n",
            "2                           -1                               -1   \n",
            "\n",
            "   4_powered-saw_presence  5_alert-signal_presence  6_music_presence  \\\n",
            "0                      -1                       -1                -1   \n",
            "1                      -1                       -1                -1   \n",
            "2                      -1                       -1                -1   \n",
            "\n",
            "   7_human-voice_presence  8_dog_presence  \n",
            "0                      -1              -1  \n",
            "1                      -1              -1  \n",
            "2                      -1              -1  \n",
            "\n",
            "[3 rows x 78 columns]\n"
          ]
        }
      ],
      "source": [
        "\n",
        "df = pd.read_csv(\"annotations.csv\")\n",
        "\n",
        "print(df.head(3))"
      ]
    },
    {
      "cell_type": "code",
      "execution_count": 4,
      "metadata": {},
      "outputs": [
        {
          "name": "stdout",
          "output_type": "stream",
          "text": [
            "['split', 'sensor_id', 'audio_filename', 'annotator_id', 'borough', 'block', 'latitude', 'longitude', 'year', 'week', 'day', 'hour', '1-1_small-sounding-engine_presence', '1-2_medium-sounding-engine_presence', '1-3_large-sounding-engine_presence', '1-X_engine-of-uncertain-size_presence', '2-1_rock-drill_presence', '2-2_jackhammer_presence', '2-3_hoe-ram_presence', '2-4_pile-driver_presence', '2-X_other-unknown-impact-machinery_presence', '3-1_non-machinery-impact_presence', '4-1_chainsaw_presence', '4-2_small-medium-rotating-saw_presence', '4-3_large-rotating-saw_presence', '4-X_other-unknown-powered-saw_presence', '5-1_car-horn_presence', '5-2_car-alarm_presence', '5-3_siren_presence', '5-4_reverse-beeper_presence', '5-X_other-unknown-alert-signal_presence', '6-1_stationary-music_presence', '6-2_mobile-music_presence', '6-3_ice-cream-truck_presence', '6-X_music-from-uncertain-source_presence', '7-1_person-or-small-group-talking_presence', '7-2_person-or-small-group-shouting_presence', '7-3_large-crowd_presence', '7-4_amplified-speech_presence', '7-X_other-unknown-human-voice_presence', '8-1_dog-barking-whining_presence', '1-1_small-sounding-engine_proximity', '1-2_medium-sounding-engine_proximity', '1-3_large-sounding-engine_proximity', '1-X_engine-of-uncertain-size_proximity', '2-1_rock-drill_proximity', '2-2_jackhammer_proximity', '2-3_hoe-ram_proximity', '2-4_pile-driver_proximity', '2-X_other-unknown-impact-machinery_proximity', '3-1_non-machinery-impact_proximity', '4-1_chainsaw_proximity', '4-2_small-medium-rotating-saw_proximity', '4-3_large-rotating-saw_proximity', '4-X_other-unknown-powered-saw_proximity', '5-1_car-horn_proximity', '5-2_car-alarm_proximity', '5-3_siren_proximity', '5-4_reverse-beeper_proximity', '5-X_other-unknown-alert-signal_proximity', '6-1_stationary-music_proximity', '6-2_mobile-music_proximity', '6-3_ice-cream-truck_proximity', '6-X_music-from-uncertain-source_proximity', '7-1_person-or-small-group-talking_proximity', '7-2_person-or-small-group-shouting_proximity', '7-3_large-crowd_proximity', '7-4_amplified-speech_proximity', '7-X_other-unknown-human-voice_proximity', '8-1_dog-barking-whining_proximity', '1_engine_presence', '2_machinery-impact_presence', '3_non-machinery-impact_presence', '4_powered-saw_presence', '5_alert-signal_presence', '6_music_presence', '7_human-voice_presence', '8_dog_presence']\n"
          ]
        }
      ],
      "source": [
        "column_names = df.columns.tolist()\n",
        "\n",
        "# Print the column names\n",
        "print(column_names)"
      ]
    },
    {
      "cell_type": "code",
      "execution_count": 5,
      "metadata": {},
      "outputs": [
        {
          "name": "stdout",
          "output_type": "stream",
          "text": [
            "  split  borough  latitude  longitude  year  week  day  hour  \\\n",
            "0  test        1  40.72951  -73.99388  2019    43    4     8   \n",
            "1  test        1  40.72951  -73.99388  2019    43    4     8   \n",
            "2  test        1  40.72951  -73.99388  2019    43    4     8   \n",
            "3  test        1  40.72951  -73.99388  2019    43    4     8   \n",
            "4  test        1  40.72951  -73.99388  2019    43    4     8   \n",
            "\n",
            "   1-1_small-sounding-engine_presence  1-2_medium-sounding-engine_presence  \\\n",
            "0                                  -1                                   -1   \n",
            "1                                   0                                    0   \n",
            "2                                   0                                    1   \n",
            "3                                  -1                                   -1   \n",
            "4                                   0                                    1   \n",
            "\n",
            "   1-3_large-sounding-engine_presence  1-X_engine-of-uncertain-size_presence  \\\n",
            "0                                  -1                                     -1   \n",
            "1                                   1                                      0   \n",
            "2                                   0                                      0   \n",
            "3                                  -1                                     -1   \n",
            "4                                   1                                      0   \n",
            "\n",
            "   5-1_car-horn_presence  5-2_car-alarm_presence  \\\n",
            "0                     -1                      -1   \n",
            "1                     -1                      -1   \n",
            "2                     -1                      -1   \n",
            "3                     -1                      -1   \n",
            "4                      0                       0   \n",
            "\n",
            "  1-1_small-sounding-engine_proximity 1-2_medium-sounding-engine_proximity  \\\n",
            "0                                  -1                                   -1   \n",
            "1                                  -1                                   -1   \n",
            "2                                  -1                                   -1   \n",
            "3                                  -1                                   -1   \n",
            "4                                  -1                                   -1   \n",
            "\n",
            "  1-3_large-sounding-engine_proximity 1-X_engine-of-uncertain-size_proximity  \n",
            "0                                  -1                                     -1  \n",
            "1                                  -1                                     -1  \n",
            "2                                  -1                                     -1  \n",
            "3                                  -1                                     -1  \n",
            "4                                  -1                                     -1  \n"
          ]
        }
      ],
      "source": [
        " \n",
        "selected_columns = ['split', 'borough', 'latitude', 'longitude', 'year', 'week', 'day', 'hour', '1-1_small-sounding-engine_presence', '1-2_medium-sounding-engine_presence', '1-3_large-sounding-engine_presence', '1-X_engine-of-uncertain-size_presence', '5-1_car-horn_presence', '5-2_car-alarm_presence', '1-1_small-sounding-engine_proximity', '1-2_medium-sounding-engine_proximity', '1-3_large-sounding-engine_proximity', '1-X_engine-of-uncertain-size_proximity']\n",
        "\n",
        "noise = df.loc[:, selected_columns]\n",
        "\n",
        "# Access and manipulate the data in the new DataFrame\n",
        "print(noise.head(5))"
      ]
    },
    {
      "cell_type": "code",
      "execution_count": 6,
      "metadata": {},
      "outputs": [
        {
          "name": "stdout",
          "output_type": "stream",
          "text": [
            "  split    borough  latitude  longitude  year  week  day  hour  \\\n",
            "0  test  Manhattan  40.72951  -73.99388  2019    43    4     8   \n",
            "1  test  Manhattan  40.72951  -73.99388  2019    43    4     8   \n",
            "2  test  Manhattan  40.72951  -73.99388  2019    43    4     8   \n",
            "3  test  Manhattan  40.72951  -73.99388  2019    43    4     8   \n",
            "4  test  Manhattan  40.72951  -73.99388  2019    43    4     8   \n",
            "\n",
            "   1-1_small-sounding-engine_presence  1-2_medium-sounding-engine_presence  \\\n",
            "0                                  -1                                   -1   \n",
            "1                                   0                                    0   \n",
            "2                                   0                                    1   \n",
            "3                                  -1                                   -1   \n",
            "4                                   0                                    1   \n",
            "\n",
            "   1-3_large-sounding-engine_presence  1-X_engine-of-uncertain-size_presence  \\\n",
            "0                                  -1                                     -1   \n",
            "1                                   1                                      0   \n",
            "2                                   0                                      0   \n",
            "3                                  -1                                     -1   \n",
            "4                                   1                                      0   \n",
            "\n",
            "   5-1_car-horn_presence  5-2_car-alarm_presence  \\\n",
            "0                     -1                      -1   \n",
            "1                     -1                      -1   \n",
            "2                     -1                      -1   \n",
            "3                     -1                      -1   \n",
            "4                      0                       0   \n",
            "\n",
            "  1-1_small-sounding-engine_proximity 1-2_medium-sounding-engine_proximity  \\\n",
            "0                                  -1                                   -1   \n",
            "1                                  -1                                   -1   \n",
            "2                                  -1                                   -1   \n",
            "3                                  -1                                   -1   \n",
            "4                                  -1                                   -1   \n",
            "\n",
            "  1-3_large-sounding-engine_proximity 1-X_engine-of-uncertain-size_proximity  \n",
            "0                                  -1                                     -1  \n",
            "1                                  -1                                     -1  \n",
            "2                                  -1                                     -1  \n",
            "3                                  -1                                     -1  \n",
            "4                                  -1                                     -1  \n"
          ]
        }
      ],
      "source": [
        "mapping = {1: 'Manhattan', 2: 'Bronx', 3: 'Brooklyn', 4: 'Queens', 5: 'Staten Island'}\n",
        "noise['borough'] = noise['borough'].replace(mapping)\n",
        "\n",
        "print(noise.head(5))"
      ]
    },
    {
      "cell_type": "code",
      "execution_count": 7,
      "metadata": {},
      "outputs": [
        {
          "name": "stdout",
          "output_type": "stream",
          "text": [
            "  split    borough  latitude  longitude  year week day hour  \\\n",
            "0  test  Manhattan  40.72951  -73.99388  2019   43   4    8   \n",
            "1  test  Manhattan  40.72951  -73.99388  2019   43   4    8   \n",
            "2  test  Manhattan  40.72951  -73.99388  2019   43   4    8   \n",
            "3  test  Manhattan  40.72951  -73.99388  2019   43   4    8   \n",
            "4  test  Manhattan  40.72951  -73.99388  2019   43   4    8   \n",
            "\n",
            "  1-1_small-sounding-engine_presence 1-2_medium-sounding-engine_presence  \\\n",
            "0                        not labeled                         not labeled   \n",
            "1                        not present                         not present   \n",
            "2                        not present                             present   \n",
            "3                        not labeled                         not labeled   \n",
            "4                        not present                             present   \n",
            "\n",
            "  1-3_large-sounding-engine_presence 1-X_engine-of-uncertain-size_presence  \\\n",
            "0                        not labeled                           not labeled   \n",
            "1                            present                           not present   \n",
            "2                        not present                           not present   \n",
            "3                        not labeled                           not labeled   \n",
            "4                            present                           not present   \n",
            "\n",
            "  5-1_car-horn_presence 5-2_car-alarm_presence  \\\n",
            "0           not labeled            not labeled   \n",
            "1           not labeled            not labeled   \n",
            "2           not labeled            not labeled   \n",
            "3           not labeled            not labeled   \n",
            "4           not present            not present   \n",
            "\n",
            "  1-1_small-sounding-engine_proximity 1-2_medium-sounding-engine_proximity  \\\n",
            "0                         not labeled                          not labeled   \n",
            "1                         not labeled                          not labeled   \n",
            "2                         not labeled                          not labeled   \n",
            "3                         not labeled                          not labeled   \n",
            "4                         not labeled                          not labeled   \n",
            "\n",
            "  1-3_large-sounding-engine_proximity 1-X_engine-of-uncertain-size_proximity  \n",
            "0                         not labeled                            not labeled  \n",
            "1                         not labeled                            not labeled  \n",
            "2                         not labeled                            not labeled  \n",
            "3                         not labeled                            not labeled  \n",
            "4                         not labeled                            not labeled  \n"
          ]
        }
      ],
      "source": [
        "mapping = {1: 'present', 0: 'not present', -1: 'not labeled', '-1': 'not labeled'}\n",
        "noise.replace(mapping, inplace=True)\n",
        "print(noise.head())"
      ]
    },
    {
      "cell_type": "code",
      "execution_count": 8,
      "metadata": {},
      "outputs": [
        {
          "name": "stdout",
          "output_type": "stream",
          "text": [
            "  split    borough  latitude  longitude  year week     day hour  \\\n",
            "0  test  Manhattan  40.72951  -73.99388  2019   43  Friday    8   \n",
            "1  test  Manhattan  40.72951  -73.99388  2019   43  Friday    8   \n",
            "2  test  Manhattan  40.72951  -73.99388  2019   43  Friday    8   \n",
            "3  test  Manhattan  40.72951  -73.99388  2019   43  Friday    8   \n",
            "4  test  Manhattan  40.72951  -73.99388  2019   43  Friday    8   \n",
            "\n",
            "  1-1_small-sounding-engine_presence 1-2_medium-sounding-engine_presence  \\\n",
            "0                        not labeled                         not labeled   \n",
            "1                        not present                         not present   \n",
            "2                        not present                             present   \n",
            "3                        not labeled                         not labeled   \n",
            "4                        not present                             present   \n",
            "\n",
            "  1-3_large-sounding-engine_presence 1-X_engine-of-uncertain-size_presence  \\\n",
            "0                        not labeled                           not labeled   \n",
            "1                            present                           not present   \n",
            "2                        not present                           not present   \n",
            "3                        not labeled                           not labeled   \n",
            "4                            present                           not present   \n",
            "\n",
            "  5-1_car-horn_presence 5-2_car-alarm_presence  \\\n",
            "0           not labeled            not labeled   \n",
            "1           not labeled            not labeled   \n",
            "2           not labeled            not labeled   \n",
            "3           not labeled            not labeled   \n",
            "4           not present            not present   \n",
            "\n",
            "  1-1_small-sounding-engine_proximity 1-2_medium-sounding-engine_proximity  \\\n",
            "0                         not labeled                          not labeled   \n",
            "1                         not labeled                          not labeled   \n",
            "2                         not labeled                          not labeled   \n",
            "3                         not labeled                          not labeled   \n",
            "4                         not labeled                          not labeled   \n",
            "\n",
            "  1-3_large-sounding-engine_proximity 1-X_engine-of-uncertain-size_proximity  \n",
            "0                         not labeled                            not labeled  \n",
            "1                         not labeled                            not labeled  \n",
            "2                         not labeled                            not labeled  \n",
            "3                         not labeled                            not labeled  \n",
            "4                         not labeled                            not labeled  \n"
          ]
        }
      ],
      "source": [
        "\n",
        "mapping = {0: 'Monday', 1: 'Tuesday', 2: 'Wednesday', 3: 'Thursday', 4: 'Friday', 5: 'Saturday', 6: 'Sunday'}\n",
        "noise['day'] = noise['day'].replace(mapping)\n",
        "\n",
        "print(noise.head(5))"
      ]
    },
    {
      "cell_type": "code",
      "execution_count": 9,
      "metadata": {},
      "outputs": [
        {
          "name": "stdout",
          "output_type": "stream",
          "text": [
            "Numero de filas: 62022\n",
            "Numero de columnas: 18\n"
          ]
        }
      ],
      "source": [
        "\n",
        "rows, columns = noise.shape\n",
        "\n",
        "print(\"Numero de filas:\", rows)\n",
        "print(\"Numero de columnas:\", columns)"
      ]
    },
    {
      "cell_type": "code",
      "execution_count": 10,
      "metadata": {},
      "outputs": [],
      "source": [
        "noise.to_csv('ruido.csv', index=False)"
      ]
    }
  ],
  "metadata": {
    "kernelspec": {
      "display_name": "Python 3",
      "language": "python",
      "name": "python3"
    },
    "language_info": {
      "codemirror_mode": {
        "name": "ipython",
        "version": 3
      },
      "file_extension": ".py",
      "mimetype": "text/x-python",
      "name": "python",
      "nbconvert_exporter": "python",
      "pygments_lexer": "ipython3",
      "version": "3.11.6"
    },
    "orig_nbformat": 4
  },
  "nbformat": 4,
  "nbformat_minor": 2
}
